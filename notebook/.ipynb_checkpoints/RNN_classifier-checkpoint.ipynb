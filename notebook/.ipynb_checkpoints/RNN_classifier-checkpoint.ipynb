{
 "cells": [
  {
   "cell_type": "code",
   "execution_count": 5,
   "metadata": {},
   "outputs": [],
   "source": [
    "# import some packge\n",
    "import torch\n",
    "import torchvision.datasets as dsets\n",
    "import torchvision.transforms as transforms\n",
    "import matplotlib.pyplot as plt\n",
    "import torch.utils.data as Data\n",
    "from torch import nn"
   ]
  },
  {
   "cell_type": "code",
   "execution_count": 2,
   "metadata": {},
   "outputs": [
    {
     "data": {
      "text/plain": [
       "<torch._C.Generator at 0x7f156013c5f0>"
      ]
     },
     "execution_count": 2,
     "metadata": {},
     "output_type": "execute_result"
    }
   ],
   "source": [
    "torch.manual_seed(1)#reproducible"
   ]
  },
  {
   "cell_type": "code",
   "execution_count": 3,
   "metadata": {},
   "outputs": [],
   "source": [
    "#Hyper Parameters\n",
    "EPOCH = 5\n",
    "BATCH_SIZE = 64\n",
    "TIME_STEP = 28 # height of image\n",
    "INPUT_SIZE = 28 # width of image\n",
    "LR = 0.01\n",
    "DOWNLOAD_MINST = True"
   ]
  },
  {
   "cell_type": "code",
   "execution_count": 7,
   "metadata": {},
   "outputs": [],
   "source": [
    "# download/get the MNIST dataset\n",
    "train_data = dsets.MNIST(\n",
    "    root='./mnist/',\n",
    "    train=True,\n",
    "    transform=transforms.ToTensor(),\n",
    "    download=DOWNLOAD_MINST,\n",
    ")\n",
    "# \n",
    "train_loader = Data.DataLoader(\n",
    "    dataset=train_data,\n",
    "    batch_size=BATCH_SIZE,\n",
    "    shuffle=True,\n",
    ")\n",
    "\n",
    "test_data = dsets.MNIST(\n",
    "    root='./mnist/',\n",
    "    train=False,\n",
    ")\n",
    "test_x = torch.unsqueeze(test_data.data,dim=1).type(torch.FloatTensor)/255\n",
    "test_y = test_data.targets"
   ]
  },
  {
   "cell_type": "code",
   "execution_count": 18,
   "metadata": {},
   "outputs": [
    {
     "data": {
      "text/plain": [
       "tensor([7, 2, 1,  ..., 4, 5, 6])"
      ]
     },
     "execution_count": 18,
     "metadata": {},
     "output_type": "execute_result"
    }
   ],
   "source": [
    "test_y"
   ]
  },
  {
   "cell_type": "code",
   "execution_count": 11,
   "metadata": {},
   "outputs": [
    {
     "data": {
      "text/plain": [
       "RNN(\n",
       "  (rnn): LSTM(28, 64, num_layers=2, batch_first=True)\n",
       "  (out): Linear(in_features=64, out_features=10, bias=True)\n",
       ")"
      ]
     },
     "execution_count": 11,
     "metadata": {},
     "output_type": "execute_result"
    }
   ],
   "source": [
    "class RNN(nn.Module):\n",
    "    def __init__(self):\n",
    "        super(RNN, self).__init__()\n",
    "\n",
    "        self.rnn = nn.LSTM(     # LSTM 效果要比 nn.RNN() 好多了\n",
    "            input_size=28,      # 图片每行的数据像素点\n",
    "            hidden_size=64,     # rnn hidden unit\n",
    "            num_layers=2,       # 有几层 RNN layers\n",
    "            batch_first=True,   # input & output 会是以 batch size 为第一维度的特征集 e.g. (batch, time_step, input_size)\n",
    "        )\n",
    "\n",
    "        self.out = nn.Linear(64, 10)    # 输出层\n",
    "\n",
    "    def forward(self, x):\n",
    "        # x shape (batch, time_step, input_size)\n",
    "        # r_out shape (batch, time_step, output_size)\n",
    "        # h_n shape (n_layers, batch, hidden_size)   LSTM 有两个 hidden states, h_n 是分线, h_c 是主线\n",
    "        # h_c shape (n_layers, batch, hidden_size)\n",
    "        r_out, (h_n, h_c) = self.rnn(x, None)   # None 表示 hidden state 会用全0的 state\n",
    "\n",
    "        # 选取最后一个时间点的 r_out 输出\n",
    "        # 这里 r_out[:, -1, :] 的值也是 h_n 的值\n",
    "        out = self.out(r_out[:, -1, :])\n",
    "        return out\n",
    "\n",
    "rnn = RNN().to('cuda')\n",
    "rnn"
   ]
  },
  {
   "cell_type": "code",
   "execution_count": 12,
   "metadata": {},
   "outputs": [],
   "source": [
    "optimizer = torch.optim.Adam(rnn.parameters(),lr=LR)\n",
    "loss_func = nn.CrossEntropyLoss()"
   ]
  },
  {
   "cell_type": "code",
   "execution_count": null,
   "metadata": {},
   "outputs": [
    {
     "name": "stdout",
     "output_type": "stream",
     "text": [
      "EPOCH- 0  | step- 0  | the loss is  tensor(0.0024, device='cuda:0')  ,accuracy is  [0.9824]\n",
      "EPOCH- 0  | step- 100  | the loss is  tensor(0.0746, device='cuda:0')  ,accuracy is  [0.9778]\n",
      "EPOCH- 0  | step- 200  | the loss is  tensor(0.0075, device='cuda:0')  ,accuracy is  [0.9836]\n",
      "EPOCH- 0  | step- 300  | the loss is  tensor(0.1200, device='cuda:0')  ,accuracy is  [0.9778]\n",
      "EPOCH- 0  | step- 400  | the loss is  tensor(0.0794, device='cuda:0')  ,accuracy is  [0.9832]\n",
      "EPOCH- 1  | step- 0  | the loss is  tensor(0.0607, device='cuda:0')  ,accuracy is  [0.9774]\n",
      "EPOCH- 1  | step- 100  | the loss is  tensor(0.0953, device='cuda:0')  ,accuracy is  [0.9803]\n",
      "EPOCH- 1  | step- 200  | the loss is  tensor(0.0258, device='cuda:0')  ,accuracy is  [0.9834]\n",
      "EPOCH- 1  | step- 300  | the loss is  tensor(0.0213, device='cuda:0')  ,accuracy is  [0.9813]\n"
     ]
    }
   ],
   "source": [
    "for epoch in range(EPOCH):\n",
    "    for step,(x,y) in enumerate(train_loader):\n",
    "        x = x.view(-1,28,28).to('cuda')\n",
    "        y = y.to('cuda')\n",
    "        \n",
    "        output = rnn(x)\n",
    "        loss = loss_func(output,y)\n",
    "        optimizer.zero_grad()\n",
    "        loss.backward()\n",
    "        optimizer.step()\n",
    "        \n",
    "        if step%100 == 0:\n",
    "            test_out = rnn(test_x.view(-1,28,28).to('cuda')).to('cpu')\n",
    "            y_pre = torch.max(test_out,1)[1].data.numpy().squeeze()\n",
    "            acc = sum(y_pre==test_y.numpy())/test_y.size()\n",
    "            print('EPOCH-',epoch,' | step-',step,' | the loss is ',loss.data.numpy,' ,accuracy is ',acc)"
   ]
  },
  {
   "cell_type": "code",
   "execution_count": null,
   "metadata": {},
   "outputs": [],
   "source": []
  }
 ],
 "metadata": {
  "kernelspec": {
   "display_name": "Python 3",
   "language": "python",
   "name": "python3"
  },
  "language_info": {
   "codemirror_mode": {
    "name": "ipython",
    "version": 3
   },
   "file_extension": ".py",
   "mimetype": "text/x-python",
   "name": "python",
   "nbconvert_exporter": "python",
   "pygments_lexer": "ipython3",
   "version": "3.7.1"
  }
 },
 "nbformat": 4,
 "nbformat_minor": 2
}
