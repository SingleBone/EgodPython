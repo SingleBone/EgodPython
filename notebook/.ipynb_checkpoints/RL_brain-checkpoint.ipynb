{
 "cells": [
  {
   "cell_type": "code",
   "execution_count": 61,
   "metadata": {},
   "outputs": [],
   "source": [
    "import numpy as np\n",
    "import pandas as pd"
   ]
  },
  {
   "cell_type": "code",
   "execution_count": 1,
   "metadata": {},
   "outputs": [],
   "source": [
    "class RL():\n",
    "    def __init__(self,action_space,learning_rate=0.01,reward_decay=0.9,e_greedy=0.9):\n",
    "        self.action_space = action_space # a list\n",
    "        self.lr = learning_rate\n",
    "        self.gamma = reward_decay\n",
    "        self.epsilon = e_greedy\n",
    "        self.table = pd.DataFrame(columns=self.action_space)\n",
    "        self._s = None\n",
    "        self.s = None\n",
    "        self.s_ = None\n",
    "        self.now_aciton = ''\n",
    "        self.next_action = ''\n",
    "        self.terminated = False\n",
    "    # state, observation, _s, s, s_ 都是一个状态值(同一种数据类型-元组)，可以是但不限于是一个坐标\n",
    "    \n",
    "    def check_state_exist(self,state):\n",
    "        # 如果state不在表的索引中，则自动添加对应格式的一行\n",
    "        if str(state) not in self.table.index:\n",
    "            self.table = self.table.append(\n",
    "                pd.Series(\n",
    "                    [0]*len(self.action_space),\n",
    "                    index = self.table.columns,\n",
    "                    name = str(state),\n",
    "                )\n",
    "            )\n",
    "    \n",
    "    def choss_action(self,observation):\n",
    "        self.check_state_exist(observation)\n",
    "        if np.random.uniform() < self.epsilon:\n",
    "            state_actions = self.table.loc[str(observation),:]\n",
    "            # 打乱state_actions中的排序(索引和值仍然保持一开始的对应关系)\n",
    "            # 这是为了防止state_actions中值都相同时总是作出一样的选择\n",
    "            state_actions = state_actions.reindex(np.random.permutation(state_acitons.index)) \n",
    "            action = state_actions.idxmax(axis=1)[0]\n",
    "        else:\n",
    "            self.now_action = np.random.choice(self.action_space)\n",
    "            \n",
    "    def learn(): # 学习，或者说更新表中值\n",
    "        pass\n",
    "        "
   ]
  },
  {
   "cell_type": "code",
   "execution_count": 65,
   "metadata": {},
   "outputs": [],
   "source": [
    "class QL(RL):\n",
    "    \n",
    "    def __init__(self,action_space,learning_rate=0.01,reward_decay=0.9,e_greedy=0.9):\n",
    "        super(QL,self).__init__(action_space,learning_rate,reward_decay,e_greedy)\n",
    "        \n",
    "    def learn(self,s,a,r,s_):\n",
    "        self.check_state_exist(s_)\n",
    "        q_pre = self.table.loc[str(s),a]\n",
    "        if not self.terminated:\n",
    "            q_tar = r + self.gamma*self.table.loc[str(s_),:].max() # 好处驱使，会表现的更想要奖励，甚至不畏死亡\n",
    "        else: \n",
    "            q_tar = r\n",
    "        self.table.loc[str(s),a] += slef.lr*(q_tar-q_pre)"
   ]
  },
  {
   "cell_type": "code",
   "execution_count": null,
   "metadata": {},
   "outputs": [],
   "source": [
    "class SarsaL(RL):\n",
    "    \n",
    "    def __init__(self, action_space, learning_rate=0.01, reward_decay=0.9, e_greedy=0.9):\n",
    "        super(SarsaTable, self).__init__(actions, learning_rate, reward_decay, e_greedy)\n",
    "\n",
    "    def learn(self,s,a,r,s_,a_):\n",
    "        self.check_state_exist(s_)\n",
    "        q_pre = self.table.loc[str(s),a]\n",
    "        if not self.terminated:\n",
    "            q_tar = r + self.gamma*self.table.loc[str(s_),a_] # 对下一步记忆更深刻，会表现的更怕惩罚\n",
    "        else: \n",
    "            q_tar = r\n",
    "        self.table.loc[str(s),a] += slef.lr*(q_tar-q_pre)"
   ]
  },
  {
   "cell_type": "code",
   "execution_count": 5,
   "metadata": {},
   "outputs": [],
   "source": [
    "class SarsaLambdaL(RL):\n",
    "    \n",
    "    def __init__(self,action_space,learning_rate=0.01,reward_decay=0.9,e_greedy=0.9,trace_decay=0.9):\n",
    "        super(SarsaLambdaL,self).__init__(action_space,learning_rate,reward_decay,e_greedy)\n",
    "        \n",
    "        self.lambda_ = trace_decay\n",
    "        self.eligibility_trace = self.table.copy()\n",
    "    \n",
    "    def check_state_exist(self,state):\n",
    "        if str(state) not in self.table.index:\n",
    "            to_be_appended = pd.Series(\n",
    "                    [0]*len(self.action_space),\n",
    "                    index = self.table.columns,\n",
    "                    name = str(state),\n",
    "                )\n",
    "            self.table = self.table.append(to_be_appended)\n",
    "            self.eligibility_trace = self.eligibility_trace.append(to_be_appended)\n",
    "            \n",
    "    def learn(self,s,a,r,s_,a_):\n",
    "        self.check_state_exist(s_)\n",
    "        q_pre = self.table.loc[str(s),a]\n",
    "        if not self.terminated :\n",
    "            q_tar = r + self.gamma*self.table.loc[str(s_),a_]\n",
    "        else:\n",
    "            q_tar = r\n",
    "        diff = q_tar - q_pre\n",
    "        \n",
    "        self.eligibility_trace.loc[str(s),:] *= 0\n",
    "        self.eligibility_trace.loc[str(s),a] += 1\n",
    "        \n",
    "        self.table += self.lr*diff*self.eligibility_trace\n",
    "        \n",
    "        self.eligibility_trace *= self.gamma*self.lambda_\n",
    "        "
   ]
  },
  {
   "cell_type": "code",
   "execution_count": null,
   "metadata": {},
   "outputs": [],
   "source": []
  }
 ],
 "metadata": {
  "kernelspec": {
   "display_name": "Python 3",
   "language": "python",
   "name": "python3"
  },
  "language_info": {
   "codemirror_mode": {
    "name": "ipython",
    "version": 3
   },
   "file_extension": ".py",
   "mimetype": "text/x-python",
   "name": "python",
   "nbconvert_exporter": "python",
   "pygments_lexer": "ipython3",
   "version": "3.7.1"
  }
 },
 "nbformat": 4,
 "nbformat_minor": 2
}
