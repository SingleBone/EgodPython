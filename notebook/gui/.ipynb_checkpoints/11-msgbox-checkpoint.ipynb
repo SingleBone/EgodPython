{
 "cells": [
  {
   "cell_type": "code",
   "execution_count": 14,
   "metadata": {},
   "outputs": [],
   "source": [
    "import tkinter as tk\n",
    "import tkinter.messagebox"
   ]
  },
  {
   "cell_type": "code",
   "execution_count": 23,
   "metadata": {},
   "outputs": [
    {
     "data": {
      "text/plain": [
       "''"
      ]
     },
     "execution_count": 23,
     "metadata": {},
     "output_type": "execute_result"
    }
   ],
   "source": [
    "window = tk.Tk()\n",
    "window.title('#11:msgbox')\n",
    "window.geometry('200x200')"
   ]
  },
  {
   "cell_type": "code",
   "execution_count": 24,
   "metadata": {},
   "outputs": [],
   "source": [
    "def msg1():\n",
    "    tk.messagebox.showinfo(title='Hi', message='hahahaha')  \n",
    "def msg2():\n",
    "    tk.messagebox.showwarning(title='Hi', message='hahahaha')  \n",
    "def msg3():    \n",
    "    tk.messagebox.showerror(title=\"Hi\", message=\"haha\")\n",
    "def msg4():\n",
    "    print(tk.messagebox.askquestion(title='Hi', message='hahahaha')) # return 'yes' , 'no'\n",
    "def msg5():\n",
    "    print(tk.messagebox.askyesno(title='Hi', message='hahahaha')) # return True, False\n",
    "#def msg6():\n",
    "#    print(tk.messagebox.asktrycancel(title='Hi', message='hahahaha'))   # return True, False\n",
    "def msg7():\n",
    "    print(tk.messagebox.askokcancel(title='Hi', message='hahahaha'))   # return True, False\n",
    "def msg8():\n",
    "    print(tk.messagebox.askyesnocancel(title=\"Hi\", message=\"haha\"))     # return, True, False, None\n"
   ]
  },
  {
   "cell_type": "code",
   "execution_count": 25,
   "metadata": {},
   "outputs": [],
   "source": [
    "tk.Button(window,text='info',command=msg1).pack()\n",
    "tk.Button(window,text='warning',command=msg2).pack()\n",
    "tk.Button(window,text='error',command=msg3).pack()\n",
    "tk.Button(window,text='askquestion',command=msg4).pack() \n",
    "tk.Button(window,text='askyesno',command=msg5).pack() \n",
    "#tk.Button(window,text='asktrycancel',command=msg6).pack() \n",
    "tk.Button(window,text='askokcancel',command=msg7).pack() \n",
    "tk.Button(window,text='askyesnocancel',command=msg8).pack() "
   ]
  },
  {
   "cell_type": "code",
   "execution_count": 26,
   "metadata": {},
   "outputs": [
    {
     "name": "stdout",
     "output_type": "stream",
     "text": [
      "True\n",
      "False\n",
      "True\n",
      "False\n",
      "None\n"
     ]
    }
   ],
   "source": [
    "window.mainloop()"
   ]
  },
  {
   "cell_type": "code",
   "execution_count": null,
   "metadata": {},
   "outputs": [],
   "source": []
  },
  {
   "cell_type": "code",
   "execution_count": null,
   "metadata": {},
   "outputs": [],
   "source": []
  }
 ],
 "metadata": {
  "kernelspec": {
   "display_name": "Python 3",
   "language": "python",
   "name": "python3"
  },
  "language_info": {
   "codemirror_mode": {
    "name": "ipython",
    "version": 3
   },
   "file_extension": ".py",
   "mimetype": "text/x-python",
   "name": "python",
   "nbconvert_exporter": "python",
   "pygments_lexer": "ipython3",
   "version": "3.7.1"
  }
 },
 "nbformat": 4,
 "nbformat_minor": 2
}
