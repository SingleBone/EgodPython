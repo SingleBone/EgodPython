{
 "cells": [
  {
   "cell_type": "code",
   "execution_count": 30,
   "metadata": {},
   "outputs": [],
   "source": [
    "import tkinter as tk"
   ]
  },
  {
   "cell_type": "code",
   "execution_count": 31,
   "metadata": {},
   "outputs": [],
   "source": [
    "window = tk.Tk()"
   ]
  },
  {
   "cell_type": "code",
   "execution_count": 32,
   "metadata": {},
   "outputs": [],
   "source": [
    "window.title('欢迎登陆知问空间！')\n",
    "window.geometry('450x300')\n",
    "canvas = tk.Canvas(window,height=200,width=500)"
   ]
  },
  {
   "cell_type": "code",
   "execution_count": 33,
   "metadata": {},
   "outputs": [],
   "source": [
    "img = tk.PhotoImage(file='./welcome.gif')\n",
    "image = canvas.create_image(0,0,anchor='nw',image=img)\n",
    "canvas.pack()"
   ]
  },
  {
   "cell_type": "code",
   "execution_count": 34,
   "metadata": {},
   "outputs": [],
   "source": [
    "tk.Label(window,text='用户名:').place(x=50,y=150)\n",
    "tk.Label(window,text='密码:').place(x=50,y=190)"
   ]
  },
  {
   "cell_type": "code",
   "execution_count": 35,
   "metadata": {},
   "outputs": [],
   "source": [
    "var_usr_name = tk.StringVar()\n",
    "var_usr_name.set('example@yingcai.com')\n",
    "var_usr_password = tk.StringVar()\n",
    "tk.Entry(window,textvariable=var_usr_name).place(x=160,y=150)\n",
    "tk.Entry(window,textvariable=var_usr_password,show='*').place(x=160,y=190)"
   ]
  },
  {
   "cell_type": "code",
   "execution_count": 36,
   "metadata": {},
   "outputs": [],
   "source": [
    "def usr_login():\n",
    "    pass\n",
    "def usr_signup():\n",
    "    pass"
   ]
  },
  {
   "cell_type": "code",
   "execution_count": 37,
   "metadata": {},
   "outputs": [],
   "source": [
    "tk.Button(window,text='登陆',command=usr_login).place(x=160,y=230)\n",
    "tk.Button(window,text='注册',command=usr_signup).place(x=230,y=230)"
   ]
  },
  {
   "cell_type": "code",
   "execution_count": 38,
   "metadata": {},
   "outputs": [],
   "source": [
    "window.mainloop()"
   ]
  },
  {
   "cell_type": "code",
   "execution_count": null,
   "metadata": {},
   "outputs": [],
   "source": []
  }
 ],
 "metadata": {
  "kernelspec": {
   "display_name": "Python 3",
   "language": "python",
   "name": "python3"
  },
  "language_info": {
   "codemirror_mode": {
    "name": "ipython",
    "version": 3
   },
   "file_extension": ".py",
   "mimetype": "text/x-python",
   "name": "python",
   "nbconvert_exporter": "python",
   "pygments_lexer": "ipython3",
   "version": "3.7.1"
  }
 },
 "nbformat": 4,
 "nbformat_minor": 2
}
