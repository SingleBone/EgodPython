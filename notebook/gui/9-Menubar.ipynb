{
 "cells": [
  {
   "cell_type": "code",
   "execution_count": 52,
   "metadata": {},
   "outputs": [],
   "source": [
    "import tkinter as tk"
   ]
  },
  {
   "cell_type": "code",
   "execution_count": 60,
   "metadata": {},
   "outputs": [
    {
     "data": {
      "text/plain": [
       "''"
      ]
     },
     "execution_count": 60,
     "metadata": {},
     "output_type": "execute_result"
    }
   ],
   "source": [
    "window = tk.Tk()\n",
    "window.title('#9:Menubar')\n",
    "window.geometry('200x200')"
   ]
  },
  {
   "cell_type": "code",
   "execution_count": 61,
   "metadata": {},
   "outputs": [],
   "source": [
    "l = tk.Label(window,text='',bg='green')\n",
    "l.pack()"
   ]
  },
  {
   "cell_type": "code",
   "execution_count": 62,
   "metadata": {},
   "outputs": [],
   "source": [
    "counter = 1\n",
    "def do_job():\n",
    "    global counter\n",
    "    l.config(text='do {} times'.format(counter))\n",
    "    counter +=1"
   ]
  },
  {
   "cell_type": "code",
   "execution_count": 63,
   "metadata": {},
   "outputs": [],
   "source": [
    "def do_exit():\n",
    "    window.destroy()"
   ]
  },
  {
   "cell_type": "code",
   "execution_count": 64,
   "metadata": {},
   "outputs": [],
   "source": [
    "menubar = tk.Menu(window)\n",
    "filemenu = tk.Menu(menubar,tearoff=0)\n",
    "menubar.add_cascade(label='file',menu=filemenu)\n",
    "filemenu.add_command(label='new',command=do_job)\n",
    "filemenu.add_command(label='open',command=do_job)\n",
    "filemenu.add_command(label='save',command=do_job)\n",
    "filemenu.add_command(label='fresh',command=do_job)\n",
    "submenu = tk.Menu(filemenu)\n",
    "filemenu.add_cascade(label='import',menu=submenu,underline=0)\n",
    "submenu.add_command(label='from online...',command=do_job)\n",
    "submenu.add_command(label='from file...',command=do_job)\n",
    "filemenu.add_separator()\n",
    "filemenu.add_command(label='exit',command=do_exit)"
   ]
  },
  {
   "cell_type": "code",
   "execution_count": 65,
   "metadata": {},
   "outputs": [],
   "source": [
    "editmenu = tk.Menu(menubar,tearoff=0)\n",
    "menubar.add_cascade(label='edit',menu=editmenu)\n",
    "editmenu.add_command(label='cut',command=do_job)\n",
    "editmenu.add_command(label='copy',command=do_job)\n",
    "editmenu.add_command(label='paste',command=do_job)"
   ]
  },
  {
   "cell_type": "code",
   "execution_count": 66,
   "metadata": {},
   "outputs": [],
   "source": [
    "window.config(menu=menubar)"
   ]
  },
  {
   "cell_type": "code",
   "execution_count": 67,
   "metadata": {},
   "outputs": [],
   "source": [
    "window.mainloop()"
   ]
  },
  {
   "cell_type": "code",
   "execution_count": null,
   "metadata": {},
   "outputs": [],
   "source": []
  }
 ],
 "metadata": {
  "kernelspec": {
   "display_name": "Python 3",
   "language": "python",
   "name": "python3"
  },
  "language_info": {
   "codemirror_mode": {
    "name": "ipython",
    "version": 3
   },
   "file_extension": ".py",
   "mimetype": "text/x-python",
   "name": "python",
   "nbconvert_exporter": "python",
   "pygments_lexer": "ipython3",
   "version": "3.7.1"
  }
 },
 "nbformat": 4,
 "nbformat_minor": 2
}
