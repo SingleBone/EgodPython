{
 "cells": [
  {
   "cell_type": "code",
   "execution_count": 10,
   "metadata": {},
   "outputs": [],
   "source": [
    "import tkinter as tk"
   ]
  },
  {
   "cell_type": "code",
   "execution_count": 17,
   "metadata": {},
   "outputs": [],
   "source": [
    "window = tk.Tk()"
   ]
  },
  {
   "cell_type": "code",
   "execution_count": 18,
   "metadata": {},
   "outputs": [
    {
     "data": {
      "text/plain": [
       "''"
      ]
     },
     "execution_count": 18,
     "metadata": {},
     "output_type": "execute_result"
    }
   ],
   "source": [
    "window.title('#7:Checkbutton')\n",
    "window.geometry('300x300')"
   ]
  },
  {
   "cell_type": "code",
   "execution_count": 19,
   "metadata": {},
   "outputs": [],
   "source": [
    "def print_selection():\n",
    "    if var1.get() and not var2.get():\n",
    "        l.config(text='I love only Python')\n",
    "    elif not var1.get() and var2.get():\n",
    "        l.config(text='I love only C++')\n",
    "    elif var1.get() and var2.get():\n",
    "        l.config(text='I love both!')\n",
    "    else:\n",
    "        l.config(text='I don\\'t love either')"
   ]
  },
  {
   "cell_type": "code",
   "execution_count": 20,
   "metadata": {},
   "outputs": [],
   "source": [
    "var1=tk.IntVar()\n",
    "var2=tk.IntVar()\n",
    "l = tk.Label(window,bg='green',text='empty')\n",
    "c1 = tk.Checkbutton(window,\n",
    "                    text='Python',\n",
    "                    onvalue=1,\n",
    "                    offvalue=0,\n",
    "                    variable=var1,\n",
    "                    command=print_selection)\n",
    "c2 = tk.Checkbutton(window,\n",
    "                    text='C++',\n",
    "                    onvalue=1,\n",
    "                    offvalue=0,\n",
    "                    variable=var2,\n",
    "                    command=print_selection)"
   ]
  },
  {
   "cell_type": "code",
   "execution_count": 21,
   "metadata": {},
   "outputs": [],
   "source": [
    "l.pack()\n",
    "c1.pack()\n",
    "c2.pack()"
   ]
  },
  {
   "cell_type": "code",
   "execution_count": 22,
   "metadata": {},
   "outputs": [],
   "source": [
    "window.mainloop()"
   ]
  },
  {
   "cell_type": "code",
   "execution_count": null,
   "metadata": {},
   "outputs": [],
   "source": []
  }
 ],
 "metadata": {
  "kernelspec": {
   "display_name": "Python 3",
   "language": "python",
   "name": "python3"
  },
  "language_info": {
   "codemirror_mode": {
    "name": "ipython",
    "version": 3
   },
   "file_extension": ".py",
   "mimetype": "text/x-python",
   "name": "python",
   "nbconvert_exporter": "python",
   "pygments_lexer": "ipython3",
   "version": "3.7.1"
  }
 },
 "nbformat": 4,
 "nbformat_minor": 2
}
