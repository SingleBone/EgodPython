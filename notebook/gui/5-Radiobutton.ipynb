{
 "cells": [
  {
   "cell_type": "code",
   "execution_count": 20,
   "metadata": {},
   "outputs": [],
   "source": [
    "import tkinter as tk"
   ]
  },
  {
   "cell_type": "code",
   "execution_count": 21,
   "metadata": {},
   "outputs": [],
   "source": [
    "window = tk.Tk()"
   ]
  },
  {
   "cell_type": "code",
   "execution_count": 22,
   "metadata": {},
   "outputs": [],
   "source": [
    "def print_selection():\n",
    "    l1.config(text='you have selected '+var.get())"
   ]
  },
  {
   "cell_type": "code",
   "execution_count": 23,
   "metadata": {},
   "outputs": [],
   "source": [
    "window.title('#5:radiobutton')\n",
    "window.geometry('200x200')\n",
    "var = tk.StringVar()\n",
    "l1 = tk.Label(window,\n",
    "              bg='gray',\n",
    "              width='20',\n",
    "              text='empty',\n",
    "             )\n",
    "# in Radiobutton , user's click will activate the 'command' and give 'value' to 'variable'\n",
    "r1 = tk.Radiobutton(window,\n",
    "                    text='Option A',\n",
    "                   variable=var,\n",
    "                   value='A',\n",
    "                   command=print_selection)\n",
    "r2 = tk.Radiobutton(window,\n",
    "                    text='Option B',\n",
    "                   variable=var,\n",
    "                   value='B',\n",
    "                   command=print_selection)\n",
    "r3 = tk.Radiobutton(window,\n",
    "                    text='Option C',\n",
    "                   variable=var,\n",
    "                   value='C',\n",
    "                   command=print_selection)"
   ]
  },
  {
   "cell_type": "code",
   "execution_count": 24,
   "metadata": {},
   "outputs": [],
   "source": [
    "l1.pack()\n",
    "r1.pack()\n",
    "r2.pack()\n",
    "r3.pack()"
   ]
  },
  {
   "cell_type": "code",
   "execution_count": 25,
   "metadata": {},
   "outputs": [],
   "source": [
    "window.mainloop()"
   ]
  },
  {
   "cell_type": "code",
   "execution_count": null,
   "metadata": {},
   "outputs": [],
   "source": []
  }
 ],
 "metadata": {
  "kernelspec": {
   "display_name": "Python 3",
   "language": "python",
   "name": "python3"
  },
  "language_info": {
   "codemirror_mode": {
    "name": "ipython",
    "version": 3
   },
   "file_extension": ".py",
   "mimetype": "text/x-python",
   "name": "python",
   "nbconvert_exporter": "python",
   "pygments_lexer": "ipython3",
   "version": "3.7.1"
  }
 },
 "nbformat": 4,
 "nbformat_minor": 2
}
